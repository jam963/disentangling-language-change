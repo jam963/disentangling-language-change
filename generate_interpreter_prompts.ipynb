{
 "cells": [
  {
   "cell_type": "code",
   "execution_count": 1,
   "id": "8fdfed21-8433-4ec2-b2ac-3c0fa0ce3e7d",
   "metadata": {},
   "outputs": [],
   "source": [
    "import numpy as np\n",
    "import pandas as pd\n",
    "from scipy import sparse\n",
    "from tqdm import tqdm\n",
    "import json\n",
    "from datasets import load_dataset"
   ]
  },
  {
   "cell_type": "code",
   "execution_count": 2,
   "id": "0f858ccc-ad5b-4438-bd6f-497702d43b27",
   "metadata": {},
   "outputs": [],
   "source": [
    "MODEL_DIR = \"models/4096_8_-1/\"\n",
    "NUM_POS, NUM_NEG = 5, 5 "
   ]
  },
  {
   "cell_type": "code",
   "execution_count": 3,
   "id": "a203cd75-1325-4d80-a750-4e4b5487a5a6",
   "metadata": {},
   "outputs": [],
   "source": [
    "RNG = np.random.default_rng(seed=910)"
   ]
  },
  {
   "cell_type": "code",
   "execution_count": 1,
   "id": "796e28fb-54c7-410d-8a39-bcba88af1f1a",
   "metadata": {},
   "outputs": [
    {
     "ename": "NameError",
     "evalue": "name 'pd' is not defined",
     "output_type": "error",
     "traceback": [
      "\u001b[0;31m---------------------------------------------------------------------------\u001b[0m",
      "\u001b[0;31mNameError\u001b[0m                                 Traceback (most recent call last)",
      "Cell \u001b[0;32mIn[1], line 1\u001b[0m\n\u001b[0;32m----> 1\u001b[0m df \u001b[38;5;241m=\u001b[39m \u001b[43mpd\u001b[49m\u001b[38;5;241m.\u001b[39mDataFrame(load_dataset(DATA_PATH, split\u001b[38;5;241m=\u001b[39m\u001b[38;5;124m\"\u001b[39m\u001b[38;5;124mtrain\u001b[39m\u001b[38;5;124m\"\u001b[39m))\n\u001b[1;32m      2\u001b[0m all_sparse_embeddings \u001b[38;5;241m=\u001b[39m sparse\u001b[38;5;241m.\u001b[39mload_npz(\u001b[38;5;124mf\u001b[39m\u001b[38;5;124m\"\u001b[39m\u001b[38;5;132;01m{\u001b[39;00mMODEL_DIR\u001b[38;5;132;01m}\u001b[39;00m\u001b[38;5;124m/sparse_embeddings.npz\u001b[39m\u001b[38;5;124m\"\u001b[39m)\n\u001b[1;32m      4\u001b[0m \u001b[38;5;28;01massert\u001b[39;00m df\u001b[38;5;241m.\u001b[39mshape[\u001b[38;5;241m0\u001b[39m] \u001b[38;5;241m==\u001b[39m all_sparse_embeddings\u001b[38;5;241m.\u001b[39mshape[\u001b[38;5;241m0\u001b[39m]\n",
      "\u001b[0;31mNameError\u001b[0m: name 'pd' is not defined"
     ]
    }
   ],
   "source": [
    "df = pd.DataFrame(load_dataset(DATA_PATH, split=\"train\"))\n",
    "all_sparse_embeddings = sparse.load_npz(f\"{MODEL_DIR}/sparse_embeddings.npz\")\n",
    "\n",
    "assert df.shape[0] == all_sparse_embeddings.shape[0]"
   ]
  },
  {
   "cell_type": "code",
   "execution_count": null,
   "id": "53e59d6b-b2c3-469b-bd20-6cec9313a28e",
   "metadata": {},
   "outputs": [],
   "source": [
    "def get_positive_and_negative_samples(all_sparse_embeddings, df, feature_idx, num_pos=5, num_neg=5):\n",
    "    feature_column = all_sparse_embeddings[:, [feature_idx]]\n",
    "    \n",
    "    dense_feature = feature_column.toarray().flatten()\n",
    "    \n",
    "    non_zero_indices = np.nonzero(dense_feature)[0]\n",
    "    \n",
    "    sorted_indices = non_zero_indices[np.argsort(dense_feature[non_zero_indices])[::-1]]\n",
    "    \n",
    "    max_activating = sorted_indices[:num_pos]\n",
    "    \n",
    "    zero_activating = np.where(dense_feature == 0)[0]\n",
    "    \n",
    "    zero_activating = np.random.choice(zero_activating, size=num_neg, replace=False)\n",
    "    \n",
    "    max_activating_sentences = df.iloc[max_activating][\"sentence\"].tolist()\n",
    "    max_activating_activations = dense_feature[max_activating]\n",
    "    zero_activating_sentences = df.iloc[zero_activating][\"sentence\"].tolist()\n",
    "    \n",
    "    return max_activating_sentences, max_activating_activations, zero_activating_sentences"
   ]
  },
  {
   "cell_type": "code",
   "execution_count": 6,
   "id": "e5398883-7dc2-4ab6-b83e-25d51a4083dc",
   "metadata": {},
   "outputs": [],
   "source": [
    "def format_sentences(max_sents, max_acts, zero_sents):\n",
    "    max_formatted = \"\\n\"\n",
    "    zero_formatted = \"\\n\"\n",
    "    for i, (msent, act) in enumerate(zip(max_sents, max_acts)):\n",
    "        max_formatted += f\"EXEMPLE {i+1}. {msent}\\n ACTIVATION: {act}\\n\" \n",
    "    for j, zsent in enumerate(zero_sents):\n",
    "        zero_formatted += f\"EXEMPLE {j+1}. {zsent}\\n\"\n",
    "\n",
    "    return max_formatted, zero_formatted"
   ]
  },
  {
   "cell_type": "code",
   "execution_count": 7,
   "id": "6f3c4948-85dd-4012-b68a-f6cd61bf16dc",
   "metadata": {},
   "outputs": [
    {
     "name": "stderr",
     "output_type": "stream",
     "text": [
      "100%|██████████████████████████████████████████████████████████████████████████████████████████████████████████████████| 4096/4096 [00:20<00:00, 203.20it/s]\n"
     ]
    }
   ],
   "source": [
    "with open(\"interpreter_prompt_fr_v2.txt\", \"r\") as f:\n",
    "    base_prompt = f.read()\n",
    "\n",
    "num_features = all_sparse_embeddings.shape[1]\n",
    "\n",
    "interpreter_prompts = {}\n",
    "\n",
    "for feature in tqdm(range(num_features)):\n",
    "    max_sents, max_acts, zero_sents = get_positive_and_negative_samples(\n",
    "        all_sparse_embeddings, \n",
    "        df, \n",
    "        feature, \n",
    "        num_pos=NUM_POS,\n",
    "        num_neg=NUM_NEG\n",
    "    )\n",
    "    max_formatted, zero_formatted = format_sentences(max_sents, max_acts, zero_sents)\n",
    "    formatted_prompt = base_prompt.format(max_activating=max_formatted, zero_activating=zero_formatted)\n",
    "    interpreter_prompts[feature] = formatted_prompt"
   ]
  },
  {
   "cell_type": "code",
   "execution_count": 8,
   "id": "2efe7466-1488-4a8d-9e08-b09bfefff206",
   "metadata": {},
   "outputs": [],
   "source": [
    "with open(f\"{MODEL_DIR}/interpreter_prompts_v2.json\", \"w\") as f: \n",
    "    json.dump(interpreter_prompts, f)"
   ]
  }
 ],
 "metadata": {
  "kernelspec": {
   "display_name": "Python 3 (ipykernel)",
   "language": "python",
   "name": "python3"
  },
  "language_info": {
   "codemirror_mode": {
    "name": "ipython",
    "version": 3
   },
   "file_extension": ".py",
   "mimetype": "text/x-python",
   "name": "python",
   "nbconvert_exporter": "python",
   "pygments_lexer": "ipython3",
   "version": "3.12.5"
  }
 },
 "nbformat": 4,
 "nbformat_minor": 5
}
