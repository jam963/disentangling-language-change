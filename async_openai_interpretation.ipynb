{
 "cells": [
  {
   "cell_type": "code",
   "execution_count": null,
   "id": "6d2f663e-3dcb-4464-b909-511023df42d0",
   "metadata": {},
   "outputs": [],
   "source": [
    "import json\n",
    "from openai import AsyncOpenAI\n",
    "from tqdm import tqdm"
   ]
  },
  {
   "cell_type": "code",
   "execution_count": null,
   "id": "712febf4-b967-4d18-8026-a55d9038b433",
   "metadata": {},
   "outputs": [],
   "source": [
    "BATCHSIZE = 64\n",
    "SYSTEM_PROMPT = {'role':'system', 'content':'Vous êtes un assistant virtuel utile.'}\n",
    "GPT_MODEL = \"gpt-4o-2024-08-06\""
   ]
  },
  {
   "cell_type": "code",
   "execution_count": null,
   "id": "02f9add5-d63d-482e-8817-e1897c2f586f",
   "metadata": {},
   "outputs": [],
   "source": [
    "model_path = \"models/4096_8_-1/\""
   ]
  },
  {
   "cell_type": "code",
   "execution_count": null,
   "id": "c1a3a831-e635-4717-8d0d-9059d8cd34ac",
   "metadata": {},
   "outputs": [],
   "source": [
    "client = AsyncOpenAI()"
   ]
  },
  {
   "cell_type": "code",
   "execution_count": null,
   "id": "0e2b9d37-7183-48e7-b054-554f3a0931ec",
   "metadata": {},
   "outputs": [],
   "source": [
    "prompt_path = f\"{model_path}/interpreter_prompts_v2.json\""
   ]
  },
  {
   "cell_type": "code",
   "execution_count": null,
   "id": "6adb314d-b30e-42af-9aea-afcb05a15426",
   "metadata": {},
   "outputs": [],
   "source": [
    "with open(prompt_path, \"r\") as f: \n",
    "    prompts = json.load(f)\n",
    "\n",
    "prompts = [(int(k), v) for k, v in prompts.items()]"
   ]
  },
  {
   "cell_type": "markdown",
   "id": "633ebf0c-ca5a-4d09-b1d4-6ba1c45f6461",
   "metadata": {},
   "source": [
    "Below is inspired by guide at https://oshea00.github.io/posts/async-openai/ "
   ]
  },
  {
   "cell_type": "code",
   "execution_count": null,
   "id": "6bb48b60-202f-4181-a32d-f2b65c337f40",
   "metadata": {},
   "outputs": [],
   "source": [
    "async def async_completion(prompt):\n",
    "    messages = [\n",
    "        SYSTEM_PROMPT, \n",
    "        {'role':'user', 'content':f\"{prompt}\"}\n",
    "    ]\n",
    "    completion = await client.chat.completions.create(\n",
    "        model=GPT_MODEL,\n",
    "        messages=messages,\n",
    "        temperature=0.2\n",
    "    )\n",
    "    return completion.choices[0].message.content"
   ]
  },
  {
   "cell_type": "code",
   "execution_count": null,
   "id": "1e34191e-804f-46e5-804b-2595a85ddff4",
   "metadata": {},
   "outputs": [],
   "source": [
    "async def reformat_completion_with_semaphore(key, prompt, semaphore): \n",
    "    async with semaphore: \n",
    "        response = await async_completion(prompt)\n",
    "        return key, response"
   ]
  },
  {
   "cell_type": "code",
   "execution_count": null,
   "id": "86df6dac-3ee2-4c55-82e7-cb9e84cb7eff",
   "metadata": {},
   "outputs": [],
   "source": [
    "import asyncio\n",
    "from asyncio import Semaphore\n",
    "\n",
    "async def run_batch(items): \n",
    "    semaphore = Semaphore(len(items))\n",
    "    tasks = [reformat_completion_with_semaphore(key, prompt, semaphore)\n",
    "             for key, prompt in items]\n",
    "    results = await asyncio.gather(*tasks)\n",
    "    return results"
   ]
  },
  {
   "cell_type": "code",
   "execution_count": null,
   "id": "0ca4490d-191a-4ff6-83fa-f3e7e685aa40",
   "metadata": {},
   "outputs": [],
   "source": [
    "async def get_completions(prompts): \n",
    "    completions = []\n",
    "    for i in tqdm(range(0, len(prompts), 64)): \n",
    "            items = prompts[i:i+BATCHSIZE]\n",
    "            results = await run_batch(items)\n",
    "            completions += results\n",
    "    return completions"
   ]
  },
  {
   "cell_type": "code",
   "execution_count": null,
   "id": "473ae1fe-4fb6-4a2e-b9c8-f9aa59324ed2",
   "metadata": {},
   "outputs": [],
   "source": [
    "completions = await get_completions(prompts)"
   ]
  },
  {
   "cell_type": "code",
   "execution_count": null,
   "id": "2c3714da-e329-43d7-b1a7-4111035bc92e",
   "metadata": {},
   "outputs": [],
   "source": [
    "completions = {k: v for k, v in completions}\n",
    "\n",
    "with open(f\"{model_path}/interpreter_responses_{GPT_MODEL}_v2.json\", \"w\") as f: \n",
    "    json.dump(completions, f)"
   ]
  }
 ],
 "metadata": {
  "kernelspec": {
   "display_name": "Python 3 (ipykernel)",
   "language": "python",
   "name": "python3"
  },
  "language_info": {
   "codemirror_mode": {
    "name": "ipython",
    "version": 3
   },
   "file_extension": ".py",
   "mimetype": "text/x-python",
   "name": "python",
   "nbconvert_exporter": "python",
   "pygments_lexer": "ipython3",
   "version": "3.12.5"
  }
 },
 "nbformat": 4,
 "nbformat_minor": 5
}
